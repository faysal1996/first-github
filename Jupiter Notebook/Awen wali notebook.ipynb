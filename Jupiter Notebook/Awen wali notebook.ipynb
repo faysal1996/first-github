{
 "cells": [
  {
   "cell_type": "markdown",
   "id": "8712bf82",
   "metadata": {},
   "source": [
    "# jupyter notebook"
   ]
  },
  {
   "cell_type": "code",
   "execution_count": null,
   "id": "f6afec9c",
   "metadata": {},
   "outputs": [],
   "source": [
    "print(\"python k chilla with baba ammar\")"
   ]
  },
  {
   "cell_type": "code",
   "execution_count": null,
   "id": "964faa2a",
   "metadata": {},
   "outputs": [],
   "source": [
    "pip install seaborn "
   ]
  },
  {
   "cell_type": "code",
   "execution_count": null,
   "id": "510c4f7c",
   "metadata": {},
   "outputs": [],
   "source": []
  }
 ],
 "metadata": {
  "kernelspec": {
   "display_name": "Python 3.10.5 64-bit",
   "language": "python",
   "name": "python3"
  },
  "language_info": {
   "codemirror_mode": {
    "name": "ipython",
    "version": 3
   },
   "file_extension": ".py",
   "mimetype": "text/x-python",
   "name": "python",
   "nbconvert_exporter": "python",
   "pygments_lexer": "ipython3",
   "version": "3.10.5"
  },
  "vscode": {
   "interpreter": {
    "hash": "63963b3f4c440940f0b94a3100916033a226cb4f45979123153792d60aa56d6a"
   }
  }
 },
 "nbformat": 4,
 "nbformat_minor": 5
}
