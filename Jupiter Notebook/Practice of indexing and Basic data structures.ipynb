{
 "cells": [
  {
   "cell_type": "markdown",
   "id": "a2ba783e",
   "metadata": {},
   "source": [
    "# -Indexing"
   ]
  },
  {
   "cell_type": "code",
   "execution_count": 1,
   "id": "521b2963",
   "metadata": {},
   "outputs": [
    {
     "data": {
      "text/plain": [
       "'glass, water, bottle, lamp, box'"
      ]
     },
     "execution_count": 1,
     "metadata": {},
     "output_type": "execute_result"
    }
   ],
   "source": [
    "x= \"glass, water, bottle, lamp, box\"\n",
    "x"
   ]
  },
  {
   "cell_type": "code",
   "execution_count": 2,
   "id": "768661b7",
   "metadata": {},
   "outputs": [
    {
     "data": {
      "text/plain": [
       "31"
      ]
     },
     "execution_count": 2,
     "metadata": {},
     "output_type": "execute_result"
    }
   ],
   "source": [
    "len(x)"
   ]
  },
  {
   "cell_type": "code",
   "execution_count": 3,
   "id": "7f7f06f1",
   "metadata": {
    "scrolled": true
   },
   "outputs": [
    {
     "data": {
      "text/plain": [
       "'g'"
      ]
     },
     "execution_count": 3,
     "metadata": {},
     "output_type": "execute_result"
    }
   ],
   "source": [
    "x[0]"
   ]
  },
  {
   "cell_type": "code",
   "execution_count": 4,
   "id": "ad508220",
   "metadata": {},
   "outputs": [
    {
     "data": {
      "text/plain": [
       "'s'"
      ]
     },
     "execution_count": 4,
     "metadata": {},
     "output_type": "execute_result"
    }
   ],
   "source": [
    "x[4]"
   ]
  },
  {
   "cell_type": "code",
   "execution_count": 5,
   "id": "b313190e",
   "metadata": {},
   "outputs": [
    {
     "data": {
      "text/plain": [
       "'glass'"
      ]
     },
     "execution_count": 5,
     "metadata": {},
     "output_type": "execute_result"
    }
   ],
   "source": [
    "x[0:5]"
   ]
  },
  {
   "cell_type": "code",
   "execution_count": 6,
   "id": "9e50bc3a",
   "metadata": {},
   "outputs": [
    {
     "data": {
      "text/plain": [
       "'lass, water, bottle, lam'"
      ]
     },
     "execution_count": 6,
     "metadata": {},
     "output_type": "execute_result"
    }
   ],
   "source": [
    "x[1:25]"
   ]
  },
  {
   "cell_type": "code",
   "execution_count": 7,
   "id": "8d77ac19",
   "metadata": {},
   "outputs": [
    {
     "data": {
      "text/plain": [
       "', water, bottle, lamp, bo'"
      ]
     },
     "execution_count": 7,
     "metadata": {},
     "output_type": "execute_result"
    }
   ],
   "source": [
    "x[5:30]"
   ]
  },
  {
   "cell_type": "code",
   "execution_count": 8,
   "id": "02203e31",
   "metadata": {},
   "outputs": [
    {
     "data": {
      "text/plain": [
       "'b'"
      ]
     },
     "execution_count": 8,
     "metadata": {},
     "output_type": "execute_result"
    }
   ],
   "source": [
    "x[-3]"
   ]
  },
  {
   "cell_type": "code",
   "execution_count": 9,
   "id": "16e2eed8",
   "metadata": {},
   "outputs": [
    {
     "data": {
      "text/plain": [
       "'er, bottle, l'"
      ]
     },
     "execution_count": 9,
     "metadata": {},
     "output_type": "execute_result"
    }
   ],
   "source": [
    "x[-21:-8]"
   ]
  },
  {
   "cell_type": "code",
   "execution_count": 10,
   "id": "05172b81",
   "metadata": {},
   "outputs": [
    {
     "data": {
      "text/plain": [
       "'le, lamp, box'"
      ]
     },
     "execution_count": 10,
     "metadata": {},
     "output_type": "execute_result"
    }
   ],
   "source": [
    "x[-13:31]"
   ]
  },
  {
   "cell_type": "code",
   "execution_count": 11,
   "id": "6b92909b",
   "metadata": {},
   "outputs": [
    {
     "data": {
      "text/plain": [
       "'taBLe and Sofa'"
      ]
     },
     "execution_count": 11,
     "metadata": {},
     "output_type": "execute_result"
    }
   ],
   "source": [
    "room= \"taBLe and Sofa\"\n",
    "room"
   ]
  },
  {
   "cell_type": "code",
   "execution_count": 12,
   "id": "ee2458f6",
   "metadata": {},
   "outputs": [
    {
     "data": {
      "text/plain": [
       "14"
      ]
     },
     "execution_count": 12,
     "metadata": {},
     "output_type": "execute_result"
    }
   ],
   "source": [
    "len(room)"
   ]
  },
  {
   "cell_type": "code",
   "execution_count": 13,
   "id": "b3091c0c",
   "metadata": {},
   "outputs": [
    {
     "data": {
      "text/plain": [
       "'Table and sofa'"
      ]
     },
     "execution_count": 13,
     "metadata": {},
     "output_type": "execute_result"
    }
   ],
   "source": [
    "room.capitalize()"
   ]
  },
  {
   "cell_type": "code",
   "execution_count": 14,
   "id": "b55ed6bc",
   "metadata": {},
   "outputs": [
    {
     "data": {
      "text/plain": [
       "'TABLE AND SOFA'"
      ]
     },
     "execution_count": 14,
     "metadata": {},
     "output_type": "execute_result"
    }
   ],
   "source": [
    "room.upper()"
   ]
  },
  {
   "cell_type": "code",
   "execution_count": 15,
   "id": "b5f08cf7",
   "metadata": {},
   "outputs": [
    {
     "data": {
      "text/plain": [
       "'table and sofa'"
      ]
     },
     "execution_count": 15,
     "metadata": {},
     "output_type": "execute_result"
    }
   ],
   "source": [
    "room.lower()"
   ]
  },
  {
   "cell_type": "code",
   "execution_count": 16,
   "id": "2f8958b0",
   "metadata": {},
   "outputs": [
    {
     "data": {
      "text/plain": [
       "'taBLe and shofa'"
      ]
     },
     "execution_count": 16,
     "metadata": {},
     "output_type": "execute_result"
    }
   ],
   "source": [
    "room.replace(\"S\", \"sh\")"
   ]
  },
  {
   "cell_type": "code",
   "execution_count": 17,
   "id": "28eb7892",
   "metadata": {},
   "outputs": [
    {
     "data": {
      "text/plain": [
       "3"
      ]
     },
     "execution_count": 17,
     "metadata": {},
     "output_type": "execute_result"
    }
   ],
   "source": [
    "room.count(\"a\")"
   ]
  },
  {
   "cell_type": "code",
   "execution_count": 18,
   "id": "0a61fb2c",
   "metadata": {},
   "outputs": [
    {
     "data": {
      "text/plain": [
       "11"
      ]
     },
     "execution_count": 18,
     "metadata": {},
     "output_type": "execute_result"
    }
   ],
   "source": [
    "room.find(\"of\")"
   ]
  },
  {
   "cell_type": "code",
   "execution_count": 19,
   "id": "9699863f",
   "metadata": {},
   "outputs": [
    {
     "data": {
      "text/plain": [
       "4"
      ]
     },
     "execution_count": 19,
     "metadata": {},
     "output_type": "execute_result"
    }
   ],
   "source": [
    "room.find(\"e\")"
   ]
  },
  {
   "cell_type": "code",
   "execution_count": 20,
   "id": "1dcf55d1",
   "metadata": {},
   "outputs": [
    {
     "data": {
      "text/plain": [
       "['taBLe ', ' Sofa']"
      ]
     },
     "execution_count": 20,
     "metadata": {},
     "output_type": "execute_result"
    }
   ],
   "source": [
    "room.split(\"and\")"
   ]
  },
  {
   "cell_type": "code",
   "execution_count": 21,
   "id": "bee8519a",
   "metadata": {},
   "outputs": [
    {
     "data": {
      "text/plain": [
       "'table and sofa'"
      ]
     },
     "execution_count": 21,
     "metadata": {},
     "output_type": "execute_result"
    }
   ],
   "source": [
    "room.casefold()"
   ]
  },
  {
   "cell_type": "code",
   "execution_count": 22,
   "id": "a75aaaa3",
   "metadata": {},
   "outputs": [
    {
     "data": {
      "text/plain": [
       "'   taBLe and Sofa   '"
      ]
     },
     "execution_count": 22,
     "metadata": {},
     "output_type": "execute_result"
    }
   ],
   "source": [
    "room.center(20)"
   ]
  },
  {
   "cell_type": "code",
   "execution_count": 23,
   "id": "6563bc59",
   "metadata": {},
   "outputs": [
    {
     "data": {
      "text/plain": [
       "b'taBLe and Sofa'"
      ]
     },
     "execution_count": 23,
     "metadata": {},
     "output_type": "execute_result"
    }
   ],
   "source": [
    "room.encode()"
   ]
  },
  {
   "cell_type": "code",
   "execution_count": 24,
   "id": "3cd578a3",
   "metadata": {},
   "outputs": [
    {
     "data": {
      "text/plain": [
       "True"
      ]
     },
     "execution_count": 24,
     "metadata": {},
     "output_type": "execute_result"
    }
   ],
   "source": [
    "room.endswith(\"taBLe and Sofa\")"
   ]
  },
  {
   "cell_type": "code",
   "execution_count": 25,
   "id": "d147d4dc",
   "metadata": {},
   "outputs": [
    {
     "data": {
      "text/plain": [
       "False"
      ]
     },
     "execution_count": 25,
     "metadata": {},
     "output_type": "execute_result"
    }
   ],
   "source": [
    "room.endswith(\"sofa\")"
   ]
  },
  {
   "cell_type": "code",
   "execution_count": 26,
   "id": "fc36a0b2",
   "metadata": {},
   "outputs": [
    {
     "data": {
      "text/plain": [
       "'taBLe and Sofa'"
      ]
     },
     "execution_count": 26,
     "metadata": {},
     "output_type": "execute_result"
    }
   ],
   "source": [
    "room.expandtabs()"
   ]
  },
  {
   "cell_type": "code",
   "execution_count": 27,
   "id": "f9d54810",
   "metadata": {},
   "outputs": [
    {
     "data": {
      "text/plain": [
       "'taBLe and Sofa'"
      ]
     },
     "execution_count": 27,
     "metadata": {},
     "output_type": "execute_result"
    }
   ],
   "source": [
    "room.format(\"taBLe and sofa\")"
   ]
  },
  {
   "cell_type": "code",
   "execution_count": 28,
   "id": "b1bf57f4",
   "metadata": {},
   "outputs": [
    {
     "data": {
      "text/plain": [
       "['taBLe and Sofa']"
      ]
     },
     "execution_count": 28,
     "metadata": {},
     "output_type": "execute_result"
    }
   ],
   "source": [
    "room.splitlines()"
   ]
  },
  {
   "cell_type": "markdown",
   "id": "09a20453",
   "metadata": {},
   "source": [
    "## - Tuples"
   ]
  },
  {
   "cell_type": "code",
   "execution_count": 29,
   "id": "fd49435b",
   "metadata": {},
   "outputs": [
    {
     "data": {
      "text/plain": [
       "(16, 'faisal', 'keys', 5.5, True, 'no')"
      ]
     },
     "execution_count": 29,
     "metadata": {},
     "output_type": "execute_result"
    }
   ],
   "source": [
    "tup1=(16, \"faisal\", \"keys\", 5.5, True, \"no\")\n",
    "tup1"
   ]
  },
  {
   "cell_type": "code",
   "execution_count": 30,
   "id": "73d3e5e0",
   "metadata": {},
   "outputs": [
    {
     "data": {
      "text/plain": [
       "tuple"
      ]
     },
     "execution_count": 30,
     "metadata": {},
     "output_type": "execute_result"
    }
   ],
   "source": [
    "type(tup1)"
   ]
  },
  {
   "cell_type": "code",
   "execution_count": 31,
   "id": "d57f83b0",
   "metadata": {},
   "outputs": [
    {
     "data": {
      "text/plain": [
       "6"
      ]
     },
     "execution_count": 31,
     "metadata": {},
     "output_type": "execute_result"
    }
   ],
   "source": [
    "len(tup1)"
   ]
  },
  {
   "cell_type": "code",
   "execution_count": 32,
   "id": "54a0f1e4",
   "metadata": {},
   "outputs": [
    {
     "data": {
      "text/plain": [
       "'keys'"
      ]
     },
     "execution_count": 32,
     "metadata": {},
     "output_type": "execute_result"
    }
   ],
   "source": [
    "tup1[2]"
   ]
  },
  {
   "cell_type": "code",
   "execution_count": 33,
   "id": "ca81b2e9",
   "metadata": {},
   "outputs": [
    {
     "data": {
      "text/plain": [
       "(16, 'faisal', 'keys', 5.5, True)"
      ]
     },
     "execution_count": 33,
     "metadata": {},
     "output_type": "execute_result"
    }
   ],
   "source": [
    "tup1[0:5]"
   ]
  },
  {
   "cell_type": "code",
   "execution_count": 34,
   "id": "64687f71",
   "metadata": {},
   "outputs": [
    {
     "data": {
      "text/plain": [
       "('lahore', 3.5, False, 'multan')"
      ]
     },
     "execution_count": 34,
     "metadata": {},
     "output_type": "execute_result"
    }
   ],
   "source": [
    "tup2= (\"lahore\", 3.5, False, \"multan\" )\n",
    "tup2"
   ]
  },
  {
   "cell_type": "code",
   "execution_count": 35,
   "id": "04c06293",
   "metadata": {},
   "outputs": [
    {
     "data": {
      "text/plain": [
       "(16, 'faisal', 'keys', 5.5, True, 'no', 'lahore', 3.5, False, 'multan')"
      ]
     },
     "execution_count": 35,
     "metadata": {},
     "output_type": "execute_result"
    }
   ],
   "source": [
    "tup1+tup2"
   ]
  },
  {
   "cell_type": "code",
   "execution_count": 36,
   "id": "32cadb44",
   "metadata": {},
   "outputs": [
    {
     "data": {
      "text/plain": [
       "('lahore',\n",
       " 3.5,\n",
       " False,\n",
       " 'multan',\n",
       " 'lahore',\n",
       " 3.5,\n",
       " False,\n",
       " 'multan',\n",
       " 16,\n",
       " 'faisal',\n",
       " 'keys',\n",
       " 5.5,\n",
       " True,\n",
       " 'no')"
      ]
     },
     "execution_count": 36,
     "metadata": {},
     "output_type": "execute_result"
    }
   ],
   "source": [
    "tup2*2+tup1"
   ]
  },
  {
   "cell_type": "code",
   "execution_count": 37,
   "id": "70bc5976",
   "metadata": {},
   "outputs": [
    {
     "data": {
      "text/plain": [
       "(4, 5, 5.5, 6.5, 3.2, 5.5, 1.4, 2.1, 4.1, 7.3, 8.4)"
      ]
     },
     "execution_count": 37,
     "metadata": {},
     "output_type": "execute_result"
    }
   ],
   "source": [
    "height=(4,5,5.5,6.5,3.2,5.5,1.4,2.1,4.1,7.3,8.4)\n",
    "height"
   ]
  },
  {
   "cell_type": "code",
   "execution_count": 38,
   "id": "c16f3934",
   "metadata": {},
   "outputs": [
    {
     "data": {
      "text/plain": [
       "(16,\n",
       " 'faisal',\n",
       " 'keys',\n",
       " 5.5,\n",
       " True,\n",
       " 'no',\n",
       " 'lahore',\n",
       " 3.5,\n",
       " False,\n",
       " 'multan',\n",
       " 4,\n",
       " 5,\n",
       " 5.5,\n",
       " 6.5,\n",
       " 3.2,\n",
       " 5.5,\n",
       " 1.4,\n",
       " 2.1,\n",
       " 4.1,\n",
       " 7.3,\n",
       " 8.4)"
      ]
     },
     "execution_count": 38,
     "metadata": {},
     "output_type": "execute_result"
    }
   ],
   "source": [
    "tup1+tup2+height"
   ]
  },
  {
   "cell_type": "code",
   "execution_count": 39,
   "id": "944e37a5",
   "metadata": {},
   "outputs": [
    {
     "data": {
      "text/plain": [
       "1.4"
      ]
     },
     "execution_count": 39,
     "metadata": {},
     "output_type": "execute_result"
    }
   ],
   "source": [
    "min(height)"
   ]
  },
  {
   "cell_type": "code",
   "execution_count": 40,
   "id": "76edae9e",
   "metadata": {},
   "outputs": [
    {
     "data": {
      "text/plain": [
       "6.5"
      ]
     },
     "execution_count": 40,
     "metadata": {},
     "output_type": "execute_result"
    }
   ],
   "source": [
    "height[3]"
   ]
  },
  {
   "cell_type": "code",
   "execution_count": 41,
   "id": "a835e8f3",
   "metadata": {},
   "outputs": [
    {
     "data": {
      "text/plain": [
       "8.4"
      ]
     },
     "execution_count": 41,
     "metadata": {},
     "output_type": "execute_result"
    }
   ],
   "source": [
    "max(height)"
   ]
  },
  {
   "cell_type": "code",
   "execution_count": 42,
   "id": "363bd618",
   "metadata": {},
   "outputs": [
    {
     "data": {
      "text/plain": [
       "11"
      ]
     },
     "execution_count": 42,
     "metadata": {},
     "output_type": "execute_result"
    }
   ],
   "source": [
    "len(height)"
   ]
  },
  {
   "cell_type": "code",
   "execution_count": 43,
   "id": "28236351",
   "metadata": {},
   "outputs": [
    {
     "data": {
      "text/plain": [
       "2"
      ]
     },
     "execution_count": 43,
     "metadata": {},
     "output_type": "execute_result"
    }
   ],
   "source": [
    "height.count(5.5)"
   ]
  },
  {
   "cell_type": "code",
   "execution_count": 44,
   "id": "92aadc0d",
   "metadata": {},
   "outputs": [
    {
     "data": {
      "text/plain": [
       "8"
      ]
     },
     "execution_count": 44,
     "metadata": {},
     "output_type": "execute_result"
    }
   ],
   "source": [
    "height.index(4.1)"
   ]
  },
  {
   "cell_type": "code",
   "execution_count": 45,
   "id": "d4de9818",
   "metadata": {},
   "outputs": [
    {
     "data": {
      "text/plain": [
       "1"
      ]
     },
     "execution_count": 45,
     "metadata": {},
     "output_type": "execute_result"
    }
   ],
   "source": [
    "tup1.count(\"keys\")"
   ]
  },
  {
   "cell_type": "code",
   "execution_count": 46,
   "id": "ee831b39",
   "metadata": {},
   "outputs": [
    {
     "data": {
      "text/plain": [
       "2"
      ]
     },
     "execution_count": 46,
     "metadata": {},
     "output_type": "execute_result"
    }
   ],
   "source": [
    "tup1.index(\"keys\")"
   ]
  },
  {
   "cell_type": "markdown",
   "id": "48e54d84",
   "metadata": {},
   "source": [
    "## - List"
   ]
  },
  {
   "cell_type": "code",
   "execution_count": 47,
   "id": "29c76472",
   "metadata": {},
   "outputs": [
    {
     "data": {
      "text/plain": [
       "[35, 3.7, 'faysal', 'baba', True]"
      ]
     },
     "execution_count": 47,
     "metadata": {},
     "output_type": "execute_result"
    }
   ],
   "source": [
    "list1=[35,3.7, \"faysal\", \"baba\", True]\n",
    "list1"
   ]
  },
  {
   "cell_type": "code",
   "execution_count": 48,
   "id": "f89e386d",
   "metadata": {},
   "outputs": [
    {
     "data": {
      "text/plain": [
       "list"
      ]
     },
     "execution_count": 48,
     "metadata": {},
     "output_type": "execute_result"
    }
   ],
   "source": [
    "type(list1)"
   ]
  },
  {
   "cell_type": "code",
   "execution_count": 49,
   "id": "37f89c4a",
   "metadata": {},
   "outputs": [
    {
     "data": {
      "text/plain": [
       "5"
      ]
     },
     "execution_count": 49,
     "metadata": {},
     "output_type": "execute_result"
    }
   ],
   "source": [
    "len(list1)"
   ]
  },
  {
   "cell_type": "code",
   "execution_count": 50,
   "id": "90d97985",
   "metadata": {},
   "outputs": [
    {
     "data": {
      "text/plain": [
       "1"
      ]
     },
     "execution_count": 50,
     "metadata": {},
     "output_type": "execute_result"
    }
   ],
   "source": [
    "list1.count(35)"
   ]
  },
  {
   "cell_type": "code",
   "execution_count": 51,
   "id": "8b58e31f",
   "metadata": {},
   "outputs": [
    {
     "data": {
      "text/plain": [
       "3"
      ]
     },
     "execution_count": 51,
     "metadata": {},
     "output_type": "execute_result"
    }
   ],
   "source": [
    "list1.index(\"baba\")"
   ]
  },
  {
   "cell_type": "code",
   "execution_count": 52,
   "id": "05aa1e12",
   "metadata": {},
   "outputs": [
    {
     "data": {
      "text/plain": [
       "[35, 3.7, 'faysal', 'baba', True, 'python with ammar']"
      ]
     },
     "execution_count": 52,
     "metadata": {},
     "output_type": "execute_result"
    }
   ],
   "source": [
    "list1.append(\"python with ammar\")\n",
    "list1"
   ]
  },
  {
   "cell_type": "code",
   "execution_count": 53,
   "id": "b3155ebf",
   "metadata": {},
   "outputs": [
    {
     "data": {
      "text/plain": [
       "['python with ammar', True, 'baba', 'faysal', 3.7, 35]"
      ]
     },
     "execution_count": 53,
     "metadata": {},
     "output_type": "execute_result"
    }
   ],
   "source": [
    "list1.reverse()\n",
    "list1"
   ]
  },
  {
   "cell_type": "code",
   "execution_count": 58,
   "id": "3ff89375",
   "metadata": {},
   "outputs": [
    {
     "data": {
      "text/plain": [
       "3.7"
      ]
     },
     "execution_count": 58,
     "metadata": {},
     "output_type": "execute_result"
    }
   ],
   "source": [
    "list1[4]"
   ]
  },
  {
   "cell_type": "code",
   "execution_count": 59,
   "id": "cf75ec8d",
   "metadata": {},
   "outputs": [
    {
     "data": {
      "text/plain": [
       "['python with ammar', True, 'baba', 'faysal', 3.7, 35]"
      ]
     },
     "execution_count": 59,
     "metadata": {},
     "output_type": "execute_result"
    }
   ],
   "source": [
    "list1[0:9]"
   ]
  },
  {
   "cell_type": "code",
   "execution_count": 60,
   "id": "65edab55",
   "metadata": {},
   "outputs": [
    {
     "data": {
      "text/plain": [
       "6"
      ]
     },
     "execution_count": 60,
     "metadata": {},
     "output_type": "execute_result"
    }
   ],
   "source": [
    "len(list1)"
   ]
  },
  {
   "cell_type": "code",
   "execution_count": 61,
   "id": "55b8af2c",
   "metadata": {},
   "outputs": [
    {
     "data": {
      "text/plain": [
       "[4.5, 65, 76, 'rehman', 'germany', 'Europe']"
      ]
     },
     "execution_count": 61,
     "metadata": {},
     "output_type": "execute_result"
    }
   ],
   "source": [
    "list2= [4.5,65,76, \"rehman\", \"germany\", \"Europe\"]\n",
    "list2"
   ]
  },
  {
   "cell_type": "code",
   "execution_count": 62,
   "id": "519e5a45",
   "metadata": {},
   "outputs": [
    {
     "data": {
      "text/plain": [
       "['python with ammar',\n",
       " True,\n",
       " 'baba',\n",
       " 'faysal',\n",
       " 3.7,\n",
       " 35,\n",
       " 4.5,\n",
       " 65,\n",
       " 76,\n",
       " 'rehman',\n",
       " 'germany',\n",
       " 'Europe']"
      ]
     },
     "execution_count": 62,
     "metadata": {},
     "output_type": "execute_result"
    }
   ],
   "source": [
    "list1+list2"
   ]
  },
  {
   "cell_type": "code",
   "execution_count": 63,
   "id": "b59560ac",
   "metadata": {},
   "outputs": [
    {
     "data": {
      "text/plain": [
       "['python with ammar',\n",
       " True,\n",
       " 'baba',\n",
       " 'faysal',\n",
       " 3.7,\n",
       " 35,\n",
       " 4.5,\n",
       " 65,\n",
       " 76,\n",
       " 'rehman',\n",
       " 'germany',\n",
       " 'Europe',\n",
       " 4.5,\n",
       " 65,\n",
       " 76,\n",
       " 'rehman',\n",
       " 'germany',\n",
       " 'Europe']"
      ]
     },
     "execution_count": 63,
     "metadata": {},
     "output_type": "execute_result"
    }
   ],
   "source": [
    "list1+list2*2"
   ]
  },
  {
   "cell_type": "code",
   "execution_count": 64,
   "id": "ed0fee49",
   "metadata": {},
   "outputs": [
    {
     "data": {
      "text/plain": [
       "[65, 75, 74, 32, 39, 22, 34, 3.4, 55, 45, 23, 21, 12, 34]"
      ]
     },
     "execution_count": 64,
     "metadata": {},
     "output_type": "execute_result"
    }
   ],
   "source": [
    "weight=[65,75,74,32,39,22,34,3.4,55,45,23,21,12,34]\n",
    "weight"
   ]
  },
  {
   "cell_type": "code",
   "execution_count": 65,
   "id": "aff7e2bb",
   "metadata": {},
   "outputs": [
    {
     "data": {
      "text/plain": [
       "list"
      ]
     },
     "execution_count": 65,
     "metadata": {},
     "output_type": "execute_result"
    }
   ],
   "source": [
    "type(weight)"
   ]
  },
  {
   "cell_type": "code",
   "execution_count": 66,
   "id": "544bd655",
   "metadata": {},
   "outputs": [
    {
     "data": {
      "text/plain": [
       "14"
      ]
     },
     "execution_count": 66,
     "metadata": {},
     "output_type": "execute_result"
    }
   ],
   "source": [
    "len(weight)"
   ]
  },
  {
   "cell_type": "code",
   "execution_count": 67,
   "id": "11b6df10",
   "metadata": {},
   "outputs": [
    {
     "data": {
      "text/plain": [
       "[3.4, 12, 21, 22, 23, 32, 34, 34, 39, 45, 55, 65, 74, 75]"
      ]
     },
     "execution_count": 67,
     "metadata": {},
     "output_type": "execute_result"
    }
   ],
   "source": [
    "weight.sort()\n",
    "weight"
   ]
  },
  {
   "cell_type": "code",
   "execution_count": 68,
   "id": "2cfbfc80",
   "metadata": {},
   "outputs": [
    {
     "data": {
      "text/plain": [
       "['python with ammar',\n",
       " True,\n",
       " 'baba',\n",
       " 'faysal',\n",
       " 3.7,\n",
       " 35,\n",
       " 4.5,\n",
       " 65,\n",
       " 76,\n",
       " 'rehman',\n",
       " 'germany',\n",
       " 'Europe',\n",
       " 3.4,\n",
       " 12,\n",
       " 21,\n",
       " 22,\n",
       " 23,\n",
       " 32,\n",
       " 34,\n",
       " 34,\n",
       " 39,\n",
       " 45,\n",
       " 55,\n",
       " 65,\n",
       " 74,\n",
       " 75]"
      ]
     },
     "execution_count": 68,
     "metadata": {},
     "output_type": "execute_result"
    }
   ],
   "source": [
    "Lists=list1+list2+weight\n",
    "Lists"
   ]
  },
  {
   "cell_type": "code",
   "execution_count": 69,
   "id": "17923cae",
   "metadata": {
    "scrolled": true
   },
   "outputs": [
    {
     "data": {
      "text/plain": [
       "[3.4, 12, 21, 22, 23, 32, 34, 34, 39, 45, 55, 65, 74, 75]"
      ]
     },
     "execution_count": 69,
     "metadata": {},
     "output_type": "execute_result"
    }
   ],
   "source": [
    "weight"
   ]
  },
  {
   "cell_type": "code",
   "execution_count": 70,
   "id": "d8db365a",
   "metadata": {},
   "outputs": [
    {
     "data": {
      "text/plain": [
       "[4.5, 65, 76, 'rehman', 'germany', 'Europe']"
      ]
     },
     "execution_count": 70,
     "metadata": {},
     "output_type": "execute_result"
    }
   ],
   "source": [
    "list2"
   ]
  },
  {
   "cell_type": "code",
   "execution_count": 71,
   "id": "8e7f0eeb",
   "metadata": {},
   "outputs": [
    {
     "data": {
      "text/plain": [
       "[4.5, 65, 76, 'rehman', 'germany', 'Europe']"
      ]
     },
     "execution_count": 71,
     "metadata": {},
     "output_type": "execute_result"
    }
   ],
   "source": [
    "list2.copy()"
   ]
  },
  {
   "cell_type": "code",
   "execution_count": 72,
   "id": "671711fb",
   "metadata": {},
   "outputs": [
    {
     "data": {
      "text/plain": [
       "[4.5, 65, 76, 'rehman', 'germany', 'Europe', 'g', 'e', 'r', 'm', 'a', 'n', 'y']"
      ]
     },
     "execution_count": 72,
     "metadata": {},
     "output_type": "execute_result"
    }
   ],
   "source": [
    "list2.extend(\"germany\")\n",
    "list2"
   ]
  },
  {
   "cell_type": "code",
   "execution_count": 73,
   "id": "61adca8d",
   "metadata": {},
   "outputs": [
    {
     "data": {
      "text/plain": [
       "[4.5, 65, 76, 'rehman', 'germany', 'g', 'e', 'r', 'm', 'a', 'n', 'y']"
      ]
     },
     "execution_count": 73,
     "metadata": {},
     "output_type": "execute_result"
    }
   ],
   "source": [
    "list2.remove(\"Europe\")\n",
    "list2"
   ]
  },
  {
   "cell_type": "code",
   "execution_count": 74,
   "id": "2ba93869",
   "metadata": {
    "scrolled": true
   },
   "outputs": [
    {
     "data": {
      "text/plain": [
       "[4.5, 65, 76, 'rehman', 'germany', 'g', 'e', 'r', 'm', 'a', 'n', 'y', 77]"
      ]
     },
     "execution_count": 74,
     "metadata": {},
     "output_type": "execute_result"
    }
   ],
   "source": [
    "list2.insert(65, 77)\n",
    "list2"
   ]
  },
  {
   "cell_type": "code",
   "execution_count": 75,
   "id": "4794367d",
   "metadata": {},
   "outputs": [
    {
     "data": {
      "text/plain": [
       "77"
      ]
     },
     "execution_count": 75,
     "metadata": {},
     "output_type": "execute_result"
    }
   ],
   "source": [
    "list2.pop()"
   ]
  },
  {
   "cell_type": "code",
   "execution_count": 76,
   "id": "203e8e68",
   "metadata": {},
   "outputs": [
    {
     "data": {
      "text/plain": [
       "35"
      ]
     },
     "execution_count": 76,
     "metadata": {},
     "output_type": "execute_result"
    }
   ],
   "source": [
    "list1.pop()"
   ]
  },
  {
   "cell_type": "code",
   "execution_count": 77,
   "id": "943f7dbb",
   "metadata": {},
   "outputs": [
    {
     "data": {
      "text/plain": [
       "['y', 'n', 'a', 'm', 'r', 'e', 'g', 'germany', 'rehman', 76, 65, 4.5]"
      ]
     },
     "execution_count": 77,
     "metadata": {},
     "output_type": "execute_result"
    }
   ],
   "source": [
    "list2.reverse()\n",
    "list2"
   ]
  },
  {
   "cell_type": "code",
   "execution_count": 78,
   "id": "b2943c42",
   "metadata": {},
   "outputs": [
    {
     "data": {
      "text/plain": [
       "['faysal', 3.5, 65, 98, 'bottle']"
      ]
     },
     "execution_count": 78,
     "metadata": {},
     "output_type": "execute_result"
    }
   ],
   "source": [
    "list3=[\"faysal\", 3.5, 65, 98, \"bottle\"]\n",
    "list3"
   ]
  },
  {
   "cell_type": "code",
   "execution_count": 79,
   "id": "ac9bc7a1",
   "metadata": {},
   "outputs": [
    {
     "data": {
      "text/plain": [
       "['faysal', 3.5, 65, 'bottle']"
      ]
     },
     "execution_count": 79,
     "metadata": {},
     "output_type": "execute_result"
    }
   ],
   "source": [
    "list3.remove(98)\n",
    "list3"
   ]
  },
  {
   "cell_type": "code",
   "execution_count": 80,
   "id": "ff1aecc8",
   "metadata": {},
   "outputs": [
    {
     "data": {
      "text/plain": [
       "['faysal', 3.5, 65, 'bottle', 98]"
      ]
     },
     "execution_count": 80,
     "metadata": {},
     "output_type": "execute_result"
    }
   ],
   "source": [
    "list3.insert(65,98)\n",
    "list3"
   ]
  },
  {
   "cell_type": "code",
   "execution_count": 81,
   "id": "09b428f9",
   "metadata": {},
   "outputs": [
    {
     "data": {
      "text/plain": [
       "['faysal', 3.5, 65, 'bottle', 98, 66]"
      ]
     },
     "execution_count": 81,
     "metadata": {},
     "output_type": "execute_result"
    }
   ],
   "source": [
    "list3.insert(56,66)\n",
    "list3"
   ]
  },
  {
   "cell_type": "code",
   "execution_count": 82,
   "id": "8c3579a5",
   "metadata": {},
   "outputs": [
    {
     "data": {
      "text/plain": [
       "['faysal', 3.5, 65, 'bottle', 98, 66, 77]"
      ]
     },
     "execution_count": 82,
     "metadata": {},
     "output_type": "execute_result"
    }
   ],
   "source": [
    "list3.insert(44, 77)\n",
    "list3"
   ]
  },
  {
   "cell_type": "code",
   "execution_count": 83,
   "id": "7d91a2cd",
   "metadata": {},
   "outputs": [
    {
     "data": {
      "text/plain": [
       "['faysal', 3.5, 65, 'bottle', 98, 66, 77, 22]"
      ]
     },
     "execution_count": 83,
     "metadata": {},
     "output_type": "execute_result"
    }
   ],
   "source": [
    "list3.insert(33,22)\n",
    "list3"
   ]
  },
  {
   "cell_type": "markdown",
   "id": "668205c6",
   "metadata": {},
   "source": [
    "## - Dictionaries"
   ]
  },
  {
   "cell_type": "code",
   "execution_count": 5,
   "id": "6123386a",
   "metadata": {},
   "outputs": [
    {
     "data": {
      "text/plain": [
       "{'rice': 100, 'bread': 50, 'roti': 20, 'naan': 200}"
      ]
     },
     "execution_count": 5,
     "metadata": {},
     "output_type": "execute_result"
    }
   ],
   "source": [
    "box1={\"rice\":100, \"bread\":50, \"roti\":20, \"naan\":200}\n",
    "box1"
   ]
  },
  {
   "cell_type": "code",
   "execution_count": 6,
   "id": "ef960144",
   "metadata": {},
   "outputs": [
    {
     "data": {
      "text/plain": [
       "dict"
      ]
     },
     "execution_count": 6,
     "metadata": {},
     "output_type": "execute_result"
    }
   ],
   "source": [
    "type(box1)"
   ]
  },
  {
   "cell_type": "code",
   "execution_count": 7,
   "id": "98f609ae",
   "metadata": {},
   "outputs": [
    {
     "data": {
      "text/plain": [
       "4"
      ]
     },
     "execution_count": 7,
     "metadata": {},
     "output_type": "execute_result"
    }
   ],
   "source": [
    "len(box1)"
   ]
  },
  {
   "cell_type": "code",
   "execution_count": 8,
   "id": "5006ecb6",
   "metadata": {},
   "outputs": [
    {
     "data": {
      "text/plain": [
       "dict_keys(['rice', 'bread', 'roti', 'naan'])"
      ]
     },
     "execution_count": 8,
     "metadata": {},
     "output_type": "execute_result"
    }
   ],
   "source": [
    "keys=box1.keys()\n",
    "keys"
   ]
  },
  {
   "cell_type": "code",
   "execution_count": 9,
   "id": "65c61932",
   "metadata": {},
   "outputs": [
    {
     "data": {
      "text/plain": [
       "dict_values([100, 50, 20, 200])"
      ]
     },
     "execution_count": 9,
     "metadata": {},
     "output_type": "execute_result"
    }
   ],
   "source": [
    "values=box1.values()\n",
    "values"
   ]
  },
  {
   "cell_type": "code",
   "execution_count": 10,
   "id": "3d106df9",
   "metadata": {},
   "outputs": [
    {
     "data": {
      "text/plain": [
       "{'rice': 100, 'bread': 50, 'roti': 20, 'naan': 200, 'salan': 70}"
      ]
     },
     "execution_count": 10,
     "metadata": {},
     "output_type": "execute_result"
    }
   ],
   "source": [
    "box1[\"salan\"]=70\n",
    "box1"
   ]
  },
  {
   "cell_type": "code",
   "execution_count": 11,
   "id": "e5ea3a65",
   "metadata": {},
   "outputs": [
    {
     "data": {
      "text/plain": [
       "{'rice': 100, 'bread': 50, 'roti': 20, 'naan': 200, 'salan': 60}"
      ]
     },
     "execution_count": 11,
     "metadata": {},
     "output_type": "execute_result"
    }
   ],
   "source": [
    "box1[\"salan\"]=60\n",
    "box1"
   ]
  },
  {
   "cell_type": "code",
   "execution_count": 12,
   "id": "f6221455",
   "metadata": {},
   "outputs": [
    {
     "data": {
      "text/plain": [
       "{'sushi': 300, 'Jalebi': 200, 'qulfa': 500}"
      ]
     },
     "execution_count": 12,
     "metadata": {},
     "output_type": "execute_result"
    }
   ],
   "source": [
    "box2={\"sushi\":300, \"Jalebi\":200, \"qulfa\":500}\n",
    "box2"
   ]
  },
  {
   "cell_type": "code",
   "execution_count": 14,
   "id": "91b630de",
   "metadata": {},
   "outputs": [],
   "source": [
    "box1.update(box2)"
   ]
  },
  {
   "cell_type": "code",
   "execution_count": 15,
   "id": "d5340050",
   "metadata": {},
   "outputs": [
    {
     "data": {
      "text/plain": [
       "{'rice': 100,\n",
       " 'bread': 50,\n",
       " 'roti': 20,\n",
       " 'naan': 200,\n",
       " 'salan': 60,\n",
       " 'sushi': 300,\n",
       " 'Jalebi': 200,\n",
       " 'qulfa': 500}"
      ]
     },
     "execution_count": 15,
     "metadata": {},
     "output_type": "execute_result"
    }
   ],
   "source": [
    "box1"
   ]
  },
  {
   "cell_type": "code",
   "execution_count": 16,
   "id": "8f4d72fa",
   "metadata": {},
   "outputs": [
    {
     "data": {
      "text/plain": [
       "{'rice': 100,\n",
       " 'bread': 50,\n",
       " 'roti': 20,\n",
       " 'naan': 200,\n",
       " 'salan': 60,\n",
       " 'sushi': 300,\n",
       " 'Jalebi': 200,\n",
       " 'qulfa': 500}"
      ]
     },
     "execution_count": 16,
     "metadata": {},
     "output_type": "execute_result"
    }
   ],
   "source": [
    "box1.copy()"
   ]
  },
  {
   "cell_type": "code",
   "execution_count": 18,
   "id": "27d84630",
   "metadata": {},
   "outputs": [
    {
     "data": {
      "text/plain": [
       "{'n': None, 'a': None}"
      ]
     },
     "execution_count": 18,
     "metadata": {},
     "output_type": "execute_result"
    }
   ],
   "source": [
    "box1.fromkeys(\"naan\")"
   ]
  },
  {
   "cell_type": "code",
   "execution_count": 19,
   "id": "e9336143",
   "metadata": {},
   "outputs": [
    {
     "data": {
      "text/plain": [
       "{'s': None, 'u': None, 'h': None, 'i': None}"
      ]
     },
     "execution_count": 19,
     "metadata": {},
     "output_type": "execute_result"
    }
   ],
   "source": [
    "box1.fromkeys(\"sushi\")"
   ]
  },
  {
   "cell_type": "code",
   "execution_count": 21,
   "id": "5da7c1e0",
   "metadata": {},
   "outputs": [
    {
     "data": {
      "text/plain": [
       "60"
      ]
     },
     "execution_count": 21,
     "metadata": {},
     "output_type": "execute_result"
    }
   ],
   "source": [
    "box1.get(\"salan\")"
   ]
  },
  {
   "cell_type": "code",
   "execution_count": 22,
   "id": "3022d4bb",
   "metadata": {},
   "outputs": [
    {
     "data": {
      "text/plain": [
       "dict_items([('rice', 100), ('bread', 50), ('roti', 20), ('naan', 200), ('salan', 60), ('sushi', 300), ('Jalebi', 200), ('qulfa', 500)])"
      ]
     },
     "execution_count": 22,
     "metadata": {},
     "output_type": "execute_result"
    }
   ],
   "source": [
    "box1.items()"
   ]
  },
  {
   "cell_type": "code",
   "execution_count": 24,
   "id": "0931195d",
   "metadata": {},
   "outputs": [
    {
     "data": {
      "text/plain": [
       "20"
      ]
     },
     "execution_count": 24,
     "metadata": {},
     "output_type": "execute_result"
    }
   ],
   "source": [
    "box1.pop(\"roti\")"
   ]
  },
  {
   "cell_type": "code",
   "execution_count": 25,
   "id": "39f2fa4f",
   "metadata": {},
   "outputs": [
    {
     "data": {
      "text/plain": [
       "('qulfa', 500)"
      ]
     },
     "execution_count": 25,
     "metadata": {},
     "output_type": "execute_result"
    }
   ],
   "source": [
    "box1.popitem()"
   ]
  },
  {
   "cell_type": "code",
   "execution_count": 30,
   "id": "73a6c06e",
   "metadata": {},
   "outputs": [
    {
     "data": {
      "text/plain": [
       "60"
      ]
     },
     "execution_count": 30,
     "metadata": {},
     "output_type": "execute_result"
    }
   ],
   "source": [
    "box1.setdefault(\"salan\")"
   ]
  },
  {
   "cell_type": "markdown",
   "id": "0643df2c",
   "metadata": {},
   "source": [
    "## - Sets"
   ]
  },
  {
   "cell_type": "code",
   "execution_count": 31,
   "id": "d03af382",
   "metadata": {},
   "outputs": [
    {
     "data": {
      "text/plain": [
       "{3, 3.5, 4.2, 43, 'baba', 'faysal', 'rehman'}"
      ]
     },
     "execution_count": 31,
     "metadata": {},
     "output_type": "execute_result"
    }
   ],
   "source": [
    "s1={3,3.5,4.2,43, \"faysal\", \"rehman\", \"baba\"}\n",
    "s1"
   ]
  },
  {
   "cell_type": "code",
   "execution_count": 32,
   "id": "274551ee",
   "metadata": {
    "scrolled": true
   },
   "outputs": [
    {
     "data": {
      "text/plain": [
       "set"
      ]
     },
     "execution_count": 32,
     "metadata": {},
     "output_type": "execute_result"
    }
   ],
   "source": [
    "type(s1)"
   ]
  },
  {
   "cell_type": "code",
   "execution_count": 33,
   "id": "23373ecc",
   "metadata": {},
   "outputs": [
    {
     "data": {
      "text/plain": [
       "7"
      ]
     },
     "execution_count": 33,
     "metadata": {},
     "output_type": "execute_result"
    }
   ],
   "source": [
    "len(s1)"
   ]
  },
  {
   "cell_type": "code",
   "execution_count": 34,
   "id": "15f68b8d",
   "metadata": {},
   "outputs": [
    {
     "data": {
      "text/plain": [
       "{3, 3.5, 4.2, 43, 'ammar', 'baba', 'faysal', 'rehman'}"
      ]
     },
     "execution_count": 34,
     "metadata": {},
     "output_type": "execute_result"
    }
   ],
   "source": [
    "s1.add(\"ammar\")\n",
    "s1"
   ]
  },
  {
   "cell_type": "code",
   "execution_count": 37,
   "id": "5d5b5855",
   "metadata": {},
   "outputs": [
    {
     "data": {
      "text/plain": [
       "{3, 3.5, 4.2, 43, 'ammar', 'baba', 'faysal', 'rehman'}"
      ]
     },
     "execution_count": 37,
     "metadata": {},
     "output_type": "execute_result"
    }
   ],
   "source": [
    "s1.copy()"
   ]
  },
  {
   "cell_type": "code",
   "execution_count": 44,
   "id": "01ac1131",
   "metadata": {},
   "outputs": [
    {
     "data": {
      "text/plain": [
       "{3, 3.5, 4.2, 43, 'ammar', 'baba', 'faysal', 'rehman'}"
      ]
     },
     "execution_count": 44,
     "metadata": {},
     "output_type": "execute_result"
    }
   ],
   "source": [
    "s1.difference(\"baba\")"
   ]
  },
  {
   "cell_type": "code",
   "execution_count": 48,
   "id": "41b274d7",
   "metadata": {},
   "outputs": [
    {
     "data": {
      "text/plain": [
       "{3, 3.5, 4.2, 43, 'ammar', 'baba', 'faysal', 'rehman'}"
      ]
     },
     "execution_count": 48,
     "metadata": {},
     "output_type": "execute_result"
    }
   ],
   "source": [
    "s1.difference_update()\n",
    "s1"
   ]
  },
  {
   "cell_type": "code",
   "execution_count": 51,
   "id": "7952e148",
   "metadata": {},
   "outputs": [
    {
     "data": {
      "text/plain": [
       "{3, 3.5, 43, 'ammar', 'baba', 'faysal', 'rehman'}"
      ]
     },
     "execution_count": 51,
     "metadata": {},
     "output_type": "execute_result"
    }
   ],
   "source": [
    "s1.discard(4.2)\n",
    "s1"
   ]
  },
  {
   "cell_type": "code",
   "execution_count": 54,
   "id": "8326fb73",
   "metadata": {},
   "outputs": [
    {
     "data": {
      "text/plain": [
       "set()"
      ]
     },
     "execution_count": 54,
     "metadata": {},
     "output_type": "execute_result"
    }
   ],
   "source": [
    "s1.intersection(\"baba, faysal\")"
   ]
  },
  {
   "cell_type": "code",
   "execution_count": 55,
   "id": "85347371",
   "metadata": {},
   "outputs": [],
   "source": [
    "s1.intersection_update()"
   ]
  },
  {
   "cell_type": "code",
   "execution_count": 56,
   "id": "2e12984e",
   "metadata": {},
   "outputs": [
    {
     "data": {
      "text/plain": [
       "{3, 3.5, 43, 'ammar', 'baba', 'faysal', 'rehman'}"
      ]
     },
     "execution_count": 56,
     "metadata": {},
     "output_type": "execute_result"
    }
   ],
   "source": [
    "s1"
   ]
  },
  {
   "cell_type": "code",
   "execution_count": 64,
   "id": "9e3b7853",
   "metadata": {},
   "outputs": [
    {
     "data": {
      "text/plain": [
       "True"
      ]
     },
     "execution_count": 64,
     "metadata": {},
     "output_type": "execute_result"
    }
   ],
   "source": [
    "s1.isdisjoint(\"faysal\")"
   ]
  },
  {
   "cell_type": "code",
   "execution_count": 67,
   "id": "340d0d75",
   "metadata": {},
   "outputs": [
    {
     "data": {
      "text/plain": [
       "False"
      ]
     },
     "execution_count": 67,
     "metadata": {},
     "output_type": "execute_result"
    }
   ],
   "source": [
    "s1.issubset(\"3.5\")"
   ]
  },
  {
   "cell_type": "code",
   "execution_count": 86,
   "id": "bab24f41",
   "metadata": {},
   "outputs": [
    {
     "data": {
      "text/plain": [
       "{'a', 'f', 'l', 's', 'y'}"
      ]
     },
     "execution_count": 86,
     "metadata": {},
     "output_type": "execute_result"
    }
   ],
   "source": [
    "s1.symmetric_difference(\"faysl\")"
   ]
  },
  {
   "cell_type": "code",
   "execution_count": 87,
   "id": "0ab32f28",
   "metadata": {},
   "outputs": [
    {
     "data": {
      "text/plain": [
       "{'a', 'e', 'h', 'm', 'n', 'r'}"
      ]
     },
     "execution_count": 87,
     "metadata": {},
     "output_type": "execute_result"
    }
   ],
   "source": [
    "s1.symmetric_difference(\"rehman\")"
   ]
  },
  {
   "cell_type": "code",
   "execution_count": 90,
   "id": "9ec3d34c",
   "metadata": {},
   "outputs": [
    {
     "data": {
      "text/plain": [
       "{'a', 'f', 'l', 's', 'y'}"
      ]
     },
     "execution_count": 90,
     "metadata": {},
     "output_type": "execute_result"
    }
   ],
   "source": [
    "s1.union(\"faysal\")"
   ]
  },
  {
   "cell_type": "code",
   "execution_count": null,
   "id": "824594a5",
   "metadata": {},
   "outputs": [],
   "source": []
  }
 ],
 "metadata": {
  "kernelspec": {
   "display_name": "Python 3 (ipykernel)",
   "language": "python",
   "name": "python3"
  },
  "language_info": {
   "codemirror_mode": {
    "name": "ipython",
    "version": 3
   },
   "file_extension": ".py",
   "mimetype": "text/x-python",
   "name": "python",
   "nbconvert_exporter": "python",
   "pygments_lexer": "ipython3",
   "version": "3.9.12"
  }
 },
 "nbformat": 4,
 "nbformat_minor": 5
}
