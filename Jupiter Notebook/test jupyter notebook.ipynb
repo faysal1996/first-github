{
 "cells": [
  {
   "cell_type": "markdown",
   "id": "7f45ea44",
   "metadata": {},
   "source": [
    "# Python ka chilla with #baba ammar\n",
    "## How to use Jupyter Notebook\n",
    "## Basics of Python"
   ]
  },
  {
   "cell_type": "markdown",
   "id": "c972c5db",
   "metadata": {},
   "source": [
    "### 01_My first Programme"
   ]
  },
  {
   "cell_type": "code",
   "execution_count": 1,
   "id": "478b6c0c",
   "metadata": {
    "scrolled": false
   },
   "outputs": [
    {
     "name": "stdout",
     "output_type": "stream",
     "text": [
      "study dairy science with faysal\n",
      "12\n",
      "we are learning python with baba g\n",
      "python k chilla\n",
      "python with codanics\n"
     ]
    }
   ],
   "source": [
    "print(\"study dairy science with faysal\")\n",
    "print(9+3)\n",
    "print(\"we are learning python with baba g\")\n",
    "print (\"python k chilla\")\n",
    "print(\"python with codanics\")"
   ]
  },
  {
   "cell_type": "markdown",
   "id": "e1caada8",
   "metadata": {},
   "source": [
    "### 02_operators"
   ]
  },
  {
   "cell_type": "code",
   "execution_count": 2,
   "id": "3840292e",
   "metadata": {
    "scrolled": true
   },
   "outputs": [
    {
     "name": "stdout",
     "output_type": "stream",
     "text": [
      "5\n",
      "3.0\n",
      "6\n",
      "1\n",
      "2\n",
      "3\n",
      "8\n",
      "6.5\n"
     ]
    }
   ],
   "source": [
    "print(2+3)\n",
    "print(6/2)\n",
    "print(2*3)\n",
    "print(13%2)\n",
    "print(3-1)\n",
    "print(6//2)\n",
    "print(2**3)\n",
    "\n",
    "print(3**2/2*3/3+6-4)"
   ]
  },
  {
   "cell_type": "markdown",
   "id": "e7ab8c7a",
   "metadata": {},
   "source": [
    "\"PEMDAS\"\n",
    "\"Parenthesis exponents multiply divide addition subtraction\"\n",
    "\"Left to right for MDAS\""
   ]
  },
  {
   "cell_type": "markdown",
   "id": "bacd4d47",
   "metadata": {},
   "source": [
    "### 03_Strings"
   ]
  },
  {
   "cell_type": "code",
   "execution_count": 3,
   "id": "879838d2",
   "metadata": {},
   "outputs": [
    {
     "name": "stdout",
     "output_type": "stream",
     "text": [
      "Hello world\n",
      "we are learning with ammar\n",
      "test for single quote\n",
      "test for double quote\n",
      "test for triple quotes\n",
      "  what's up  \n"
     ]
    }
   ],
   "source": [
    "print(\"Hello world\")\n",
    "print(\"we are learning with ammar\")\n",
    "print('test for single quote')\n",
    "print(\"test for double quote\")\n",
    "print('''test for triple quotes''')\n",
    "print(  \"  what's up  \"  )"
   ]
  },
  {
   "cell_type": "markdown",
   "id": "ddca1db6",
   "metadata": {},
   "source": [
    "### 04_Comments"
   ]
  },
  {
   "cell_type": "code",
   "execution_count": 4,
   "id": "db1ddabb",
   "metadata": {},
   "outputs": [
    {
     "name": "stdout",
     "output_type": "stream",
     "text": [
      "how are you?\n",
      "we are learning python with ammar\n",
      "6\n"
     ]
    }
   ],
   "source": [
    "print(\"how are you?\")\n",
    "print(\"we are learning python with ammar\") #print a string\n",
    "print(2+4) #print operators function with numbers"
   ]
  },
  {
   "cell_type": "markdown",
   "id": "157364b7",
   "metadata": {},
   "source": [
    "### 05_Variables"
   ]
  },
  {
   "cell_type": "code",
   "execution_count": 5,
   "id": "246f4ea5",
   "metadata": {
    "scrolled": true
   },
   "outputs": [
    {
     "name": "stdout",
     "output_type": "stream",
     "text": [
      "5\n",
      "we are learning python with ammar\n",
      "15\n",
      "<class 'int'>\n",
      "<class 'str'>\n"
     ]
    }
   ],
   "source": [
    "# variables: objects containing specific values\n",
    "x = 5                                 #numeric or integer variable\n",
    "print(x)\n",
    "y=\"we are learning python with ammar\" #string variable\n",
    "print(y)\n",
    "x= x+10\n",
    "print(x)\n",
    "# #types/class of variables\n",
    "# type(x)\n",
    "print(type(x))\n",
    "print(type(y))\n",
    "#print_type_class"
   ]
  },
  {
   "cell_type": "markdown",
   "id": "50a5fcff",
   "metadata": {},
   "source": [
    "#rules to assign a variable\n",
    "#1 the variable should contain letters, numbers, or underscores\n",
    "#2 dont start variable with numbers\n",
    "#3 spaces are not allowed\n",
    "#4 dont use keywords used in functions(break, median, mean, test etc)\n",
    "#5 short and descriptive variables\n",
    "#6 case sensitivity(always use lower case letters)"
   ]
  },
  {
   "cell_type": "markdown",
   "id": "879b83ad",
   "metadata": {},
   "source": [
    "### 06_Input Variables"
   ]
  },
  {
   "cell_type": "code",
   "execution_count": 6,
   "id": "bb77a99d",
   "metadata": {},
   "outputs": [
    {
     "name": "stdout",
     "output_type": "stream",
     "text": [
      "donner teller\n",
      "what is your favorite fruit?  mangoes\n",
      "mangoes\n",
      "what is your name?faysal\n",
      "hi faysal\n",
      "what is your name?faysal\n",
      "hello faysal\n",
      "what is your name?  faysal\n",
      "how old are you? 25\n",
      "hello faysal 25\n",
      "what is your name?  faysal\n",
      "how old are you? 25\n",
      "hallo faysal , i am old now\n"
     ]
    }
   ],
   "source": [
    "food_basket=\"donner teller\"\n",
    "print(food_basket)\n",
    "                    # input function simple\n",
    "food_basket=input(\"what is your favorite fruit?  \")\n",
    "print(food_basket)\n",
    "                   # input function of 2nd stage\n",
    "name= input(\"what is your name?\")\n",
    "greetings=(\"hi\")\n",
    "print(greetings, name)\n",
    "\n",
    "                 # another way of stage 2 input function\n",
    "name= input(\"what is your name?\")\n",
    "print(\"hello\", name)\n",
    "\n",
    "                     # 3rd satge input function\n",
    "name= input(\"what is your name?  \")\n",
    "age= input(\"how old are you? \")\n",
    "greetings=\"hello\"\n",
    "print(greetings, name, age)\n",
    "\n",
    "name= input(\"what is your name?  \")\n",
    "age= input(\"how old are you? \")\n",
    "greetings=\"hallo\"\n",
    "print(greetings, name, \", i am old now\")"
   ]
  },
  {
   "cell_type": "markdown",
   "id": "c372b986",
   "metadata": {},
   "source": [
    "### 07_Conditional_Logics"
   ]
  },
  {
   "cell_type": "code",
   "execution_count": 7,
   "id": "447ff013",
   "metadata": {},
   "outputs": [
    {
     "name": "stdout",
     "output_type": "stream",
     "text": [
      "True\n",
      "False\n",
      "False\n",
      "True\n",
      "False\n",
      "True\n",
      "True\n",
      "True\n",
      "False\n",
      "how old is hammad? 4\n",
      "<class 'int'>\n",
      "<class 'int'>\n",
      "False\n",
      "False\n"
     ]
    }
   ],
   "source": [
    "                                    ##some additional operators\n",
    "#logical operators are either 'true or false' or \"yes or no\" or \"0 or 1\"\n",
    "#equal to                       ==\n",
    "#not equal to                   !=\n",
    "#less than                      <\n",
    "#greater than                   >\n",
    "#less than and equal to         <=\n",
    "#greater than and equal to      >=\n",
    "\n",
    "                                    #is 4 equal to 4?\n",
    "print(4==4)\n",
    "print(4!=4)\n",
    "print(3==2)\n",
    "print(3>2)\n",
    "print(5<4)\n",
    "print(5>4)\n",
    "print(4<=5)\n",
    "print(6>=4)\n",
    "\n",
    "                                    # application of logical operators\n",
    "hammad_age=4\n",
    "age_at_school=5\n",
    "print(hammad_age==age_at_school)\n",
    "\n",
    "                                    #input function and logical operator \n",
    "hammad_age=input(\"how old is hammad? \")   #input function\n",
    "age_at_school=5\n",
    "hammad_age=int(hammad_age)\n",
    "print(type(hammad_age))\n",
    "print(type(age_at_school))                          \n",
    "print(hammad_age==age_at_school)        #logical operator \n",
    "hammad_age=int(hammad_age)              #input function\n",
    "age_at_school=5\n",
    "print(hammad_age==age_at_school)"
   ]
  },
  {
   "cell_type": "markdown",
   "id": "5c84b8ac",
   "metadata": {},
   "source": [
    "### 08_Type_Conversion"
   ]
  },
  {
   "cell_type": "code",
   "execution_count": 8,
   "id": "82663555",
   "metadata": {},
   "outputs": [
    {
     "name": "stdout",
     "output_type": "stream",
     "text": [
      "20.2 type of x is: <class 'float'>\n",
      "what is your age? 25\n",
      "<class 'int'>\n",
      "25 <class 'int'>\n",
      "what is your name? faysal\n",
      "faysal <class 'str'>\n",
      "10.5 type of x is <class 'float'>\n"
     ]
    }
   ],
   "source": [
    "x= 10           #integer\n",
    "y= 10.2         #float class remains on priority always    \n",
    "z= \"hello\"      #string\n",
    "                                    #implicit type conversion\n",
    "x=x+y\n",
    "\n",
    "print(x, \"type of x is:\", type(x))\n",
    "\n",
    "                                    #explicit type conversion\n",
    "age=input(\"what is your age? \")\n",
    "age=int(age)\n",
    "print(type(age))\n",
    "print(age, type((age)))\n",
    "\n",
    "                                    #name\n",
    "name=input(\"what is your name? \")\n",
    "print(name, type(str(name)))\n",
    "\n",
    "x=7\n",
    "y=3.5\n",
    "x=x+y\n",
    "print(x, \"type of x is\", type(x))"
   ]
  },
  {
   "cell_type": "markdown",
   "id": "064cf3c5",
   "metadata": {},
   "source": [
    "### 09_if_elif_else_Statement"
   ]
  },
  {
   "cell_type": "code",
   "execution_count": 9,
   "id": "5c1fadae",
   "metadata": {},
   "outputs": [
    {
     "name": "stdout",
     "output_type": "stream",
     "text": [
      "take care of hamad, he is still baby\n"
     ]
    }
   ],
   "source": [
    "required_age_at_school=5\n",
    "hamad_age=1\n",
    "\n",
    "                                    #Question: can hammad go to school?\n",
    "\n",
    "if hamad_age==required_age_at_school:\n",
    "    \n",
    "     print(\"congratulations hamad can join the school.\")\n",
    "elif hamad_age> required_age_at_school:\n",
    "     print(\"hamad should join higher class\")\n",
    "elif hamad_age <=2:\n",
    "     print(\"take care of hamad, he is still baby\")       \n",
    "else:\n",
    "     print(\"hamad can not go to school \")\n"
   ]
  },
  {
   "cell_type": "markdown",
   "id": "d2fe7c63",
   "metadata": {},
   "source": [
    "### 010_defining_functions"
   ]
  },
  {
   "cell_type": "code",
   "execution_count": 10,
   "id": "85a290d5",
   "metadata": {},
   "outputs": [
    {
     "name": "stdout",
     "output_type": "stream",
     "text": [
      "we are learning with ammar\n",
      "we are learning with ammar\n",
      "we are learning with ammar\n",
      "we are learning with ammar\n",
      "we are learning with ammar\n",
      "we are learning with ammar\n",
      "we are learningg with ammar\n",
      "we are learningg with ammar\n",
      "we are learningg with ammar\n",
      "we are learningg with ammar in codanics you tube\n",
      "we are learningg with ammar in codanics you tube\n",
      "we are learningg with ammar in codanics you tube\n",
      "we are learning with ammar\n",
      "we are learning with ammar\n",
      "we are learning with ammar\n",
      "ali take rest\n",
      "38\n"
     ]
    }
   ],
   "source": [
    "print(\"we are learning with ammar\")\n",
    "print(\"we are learning with ammar\")\n",
    "print(\"we are learning with ammar\")\n",
    "print(\"we are learning with ammar\")\n",
    "print(\"we are learning with ammar\")\n",
    "print(\"we are learning with ammar\")\n",
    "\n",
    "                                            #how to define a functions\n",
    "                                                    #1 way\n",
    "def print_hp():\n",
    "    print(\"we are learningg with ammar\")\n",
    "    print(\"we are learningg with ammar\")\n",
    "    print(\"we are learningg with ammar\")\n",
    "print_hp()\n",
    "\n",
    "                                                    # 2\n",
    "def print_hp():\n",
    "    text= \"we are learningg with ammar in codanics you tube\"\n",
    "    print(text)\n",
    "    print(text)\n",
    "    print(text)\n",
    "print_hp()\n",
    "\n",
    "                                                    # 3 easy\n",
    "def print_hp(text):\n",
    "    print(text)\n",
    "    print(text)\n",
    "    print(text)\n",
    "print_hp(\"we are learning with ammar\")\n",
    "\n",
    "                                    #defining a function with if, elif and else statements\n",
    "\n",
    "\n",
    "def school_calculator(age):\n",
    "    if age==5:\n",
    "        print(\"ali can join the school\")\n",
    "    elif age>5:\n",
    "        print(\"ali must go to high school\")\n",
    "    else:\n",
    "        print(\"ali take rest\")\n",
    "school_calculator(2)\n",
    "\n",
    "                                            #defining a function of future\n",
    "def future_age(age):\n",
    "    new_age=age+20\n",
    "    return new_age\n",
    "    print(new_age)\n",
    "future_predicted_age=future_age(18)\n",
    "print(future_predicted_age)"
   ]
  },
  {
   "cell_type": "markdown",
   "id": "95f150b4",
   "metadata": {},
   "source": [
    "### 011_Loops"
   ]
  },
  {
   "cell_type": "code",
   "execution_count": 11,
   "id": "29ac5241",
   "metadata": {},
   "outputs": [
    {
     "name": "stdout",
     "output_type": "stream",
     "text": [
      "0\n",
      "1\n",
      "2\n",
      "3\n",
      "4\n",
      "5\n",
      "6\n",
      "7\n",
      "8\n",
      "9\n",
      "2\n",
      "3\n",
      "4\n",
      "5\n",
      "6\n",
      "7\n",
      "8\n",
      "mon\n",
      "teu\n",
      "wed\n",
      "thu\n"
     ]
    }
   ],
   "source": [
    "                                                    # While and For Loops\n",
    "                                                        # while loops\n",
    "\n",
    "x=0\n",
    "while (x<5):\n",
    "    print(x)\n",
    "    x=x+1\n",
    "\n",
    "                                                        # For Loop\n",
    "for x in range(5,10):\n",
    "    print(x)\n",
    "\n",
    "x=2\n",
    "while (x<4):\n",
    "    print(x)\n",
    "    x=x+1\n",
    "x=3\n",
    "while (x<2):\n",
    "    print(x)\n",
    "    x=x+1\n",
    "\n",
    "for x in range(4,9):\n",
    "    print(x)\n",
    "\n",
    "                                                            #Array\n",
    "days = (\"mon\", \"teu\", \"wed\", \"thu\", \"fri\", \"sat\", \"sun\")\n",
    "for o in days:\n",
    "    if (o==\"fri\"):break #loop stops\n",
    "    if (o==\"fri\"):continue #skips o\n",
    "    print(o)"
   ]
  },
  {
   "cell_type": "markdown",
   "id": "45003954",
   "metadata": {},
   "source": [
    "### 012_Import_Libraries"
   ]
  },
  {
   "cell_type": "code",
   "execution_count": 12,
   "id": "333c4f1a",
   "metadata": {
    "scrolled": true
   },
   "outputs": [
    {
     "name": "stdout",
     "output_type": "stream",
     "text": [
      "3.141592653589793\n",
      "the value of pi is  3.141592653589793\n",
      "300\n",
      "300.0\n",
      "150\n"
     ]
    }
   ],
   "source": [
    "                                #if you want to print the value of pi\n",
    "\n",
    "import math\n",
    "print(math.pi)\n",
    "print(\"the value of pi is \", math.pi)\n",
    "\n",
    "import statistics\n",
    "x=(150,250,350,450)\n",
    "print(statistics.mean(x))\n",
    "print(statistics.median(x))\n",
    "print(statistics.mode(x))\n",
    "\n",
    "#numpy, pandas are important libraries"
   ]
  },
  {
   "cell_type": "markdown",
   "id": "78a62aee",
   "metadata": {},
   "source": [
    "### 013_Trouble_shootings"
   ]
  },
  {
   "cell_type": "code",
   "execution_count": 13,
   "id": "2eb9fcb5",
   "metadata": {
    "scrolled": true
   },
   "outputs": [
    {
     "name": "stdout",
     "output_type": "stream",
     "text": [
      "we are learnoing python with ammar\n",
      "25.0\n",
      "hello name\n",
      "hello   amar\n",
      "hello world\n",
      "hello world\n",
      "hello world\n"
     ]
    }
   ],
   "source": [
    "print(\"we are learnoing python with ammar\") #syntax error means no comma\n",
    "\n",
    "print(25/1) #runtime error means zero division error. divide with something else\n",
    "\n",
    "\n",
    "name=\"amar\"\n",
    "print(\"hello name\")     #symantic error or personal fault not python fault. what to add and where\n",
    "print(\"hello  \",name)\n",
    "print('hello world')\n",
    "print(\"hello world\")\n",
    "print('''hello world''')"
   ]
  }
 ],
 "metadata": {
  "kernelspec": {
   "display_name": "Python 3.10.5 64-bit",
   "language": "python",
   "name": "python3"
  },
  "language_info": {
   "codemirror_mode": {
    "name": "ipython",
    "version": 3
   },
   "file_extension": ".py",
   "mimetype": "text/x-python",
   "name": "python",
   "nbconvert_exporter": "python",
   "pygments_lexer": "ipython3",
   "version": "3.10.5"
  },
  "vscode": {
   "interpreter": {
    "hash": "63963b3f4c440940f0b94a3100916033a226cb4f45979123153792d60aa56d6a"
   }
  }
 },
 "nbformat": 4,
 "nbformat_minor": 5
}
